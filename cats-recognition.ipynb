{
 "cells": [
  {
   "cell_type": "markdown",
   "id": "030728f0",
   "metadata": {
    "papermill": {
     "duration": 0.013199,
     "end_time": "2023-05-16T17:27:27.951367",
     "exception": false,
     "start_time": "2023-05-16T17:27:27.938168",
     "status": "completed"
    },
    "tags": []
   },
   "source": [
    "## Packages"
   ]
  },
  {
   "cell_type": "code",
   "execution_count": 1,
   "id": "f0771c25",
   "metadata": {
    "execution": {
     "iopub.execute_input": "2023-05-16T17:27:27.979244Z",
     "iopub.status.busy": "2023-05-16T17:27:27.978756Z",
     "iopub.status.idle": "2023-05-16T17:27:29.693480Z",
     "shell.execute_reply": "2023-05-16T17:27:29.692320Z"
    },
    "papermill": {
     "duration": 1.731893,
     "end_time": "2023-05-16T17:27:29.696177",
     "exception": false,
     "start_time": "2023-05-16T17:27:27.964284",
     "status": "completed"
    },
    "tags": []
   },
   "outputs": [
    {
     "name": "stderr",
     "output_type": "stream",
     "text": [
      "/opt/conda/lib/python3.10/site-packages/scipy/__init__.py:146: UserWarning: A NumPy version >=1.16.5 and <1.23.0 is required for this version of SciPy (detected version 1.23.5\n",
      "  warnings.warn(f\"A NumPy version >={np_minversion} and <{np_maxversion}\"\n"
     ]
    }
   ],
   "source": [
    "import numpy as np\n",
    "import matplotlib.pyplot as plt\n",
    "import sklearn\n",
    "import sklearn.datasets\n",
    "import sklearn.linear_model\n",
    "import h5py\n",
    "import scipy\n",
    "from PIL import Image\n",
    "from scipy import ndimage\n",
    "from decimal import Decimal\n",
    "\n",
    "%matplotlib inline"
   ]
  },
  {
   "cell_type": "markdown",
   "id": "afbc9e58",
   "metadata": {
    "papermill": {
     "duration": 0.012682,
     "end_time": "2023-05-16T17:27:29.722071",
     "exception": false,
     "start_time": "2023-05-16T17:27:29.709389",
     "status": "completed"
    },
    "tags": []
   },
   "source": [
    "## Dataset "
   ]
  },
  {
   "cell_type": "code",
   "execution_count": 2,
   "id": "604241e1",
   "metadata": {
    "execution": {
     "iopub.execute_input": "2023-05-16T17:27:29.749779Z",
     "iopub.status.busy": "2023-05-16T17:27:29.749357Z",
     "iopub.status.idle": "2023-05-16T17:27:29.757795Z",
     "shell.execute_reply": "2023-05-16T17:27:29.756695Z"
    },
    "papermill": {
     "duration": 0.025299,
     "end_time": "2023-05-16T17:27:29.760194",
     "exception": false,
     "start_time": "2023-05-16T17:27:29.734895",
     "status": "completed"
    },
    "tags": []
   },
   "outputs": [],
   "source": [
    "def load_dataset():\n",
    "    train_dataset = h5py.File('../input/cat-images-dataset/train_catvnoncat.h5', \"r\")\n",
    "    train_set_x_orig = np.array(train_dataset[\"train_set_x\"][:]) \n",
    "    train_set_y_orig = np.array(train_dataset[\"train_set_y\"][:]) \n",
    "\n",
    "    test_dataset = h5py.File('../input/cat-images-dataset/test_catvnoncat.h5', \"r\")\n",
    "    test_set_x_orig = np.array(test_dataset[\"test_set_x\"][:]) \n",
    "    test_set_y_orig = np.array(test_dataset[\"test_set_y\"][:]) \n",
    "\n",
    "    classes = np.array(test_dataset[\"list_classes\"][:]) \n",
    "    \n",
    "    train_set_y_orig = train_set_y_orig.reshape((1, train_set_y_orig.shape[0]))\n",
    "    test_set_y_orig = test_set_y_orig.reshape((1, test_set_y_orig.shape[0]))\n",
    "    \n",
    "    return train_set_x_orig, train_set_y_orig, test_set_x_orig, test_set_y_orig, classes\n"
   ]
  },
  {
   "cell_type": "code",
   "execution_count": 3,
   "id": "51d0ebb5",
   "metadata": {
    "execution": {
     "iopub.execute_input": "2023-05-16T17:27:29.787845Z",
     "iopub.status.busy": "2023-05-16T17:27:29.787434Z",
     "iopub.status.idle": "2023-05-16T17:27:29.903212Z",
     "shell.execute_reply": "2023-05-16T17:27:29.902229Z"
    },
    "papermill": {
     "duration": 0.132665,
     "end_time": "2023-05-16T17:27:29.905751",
     "exception": false,
     "start_time": "2023-05-16T17:27:29.773086",
     "status": "completed"
    },
    "tags": []
   },
   "outputs": [],
   "source": [
    "train_set_x_orig, train_set_y, test_set_x_orig, test_set_y, classes = load_dataset()"
   ]
  },
  {
   "cell_type": "code",
   "execution_count": 4,
   "id": "e4e8c997",
   "metadata": {
    "execution": {
     "iopub.execute_input": "2023-05-16T17:27:29.935373Z",
     "iopub.status.busy": "2023-05-16T17:27:29.934179Z",
     "iopub.status.idle": "2023-05-16T17:27:30.212130Z",
     "shell.execute_reply": "2023-05-16T17:27:30.210993Z"
    },
    "papermill": {
     "duration": 0.295279,
     "end_time": "2023-05-16T17:27:30.214714",
     "exception": false,
     "start_time": "2023-05-16T17:27:29.919435",
     "status": "completed"
    },
    "tags": []
   },
   "outputs": [
    {
     "name": "stdout",
     "output_type": "stream",
     "text": [
      "y = [1], it's a 'cat' picture.\n"
     ]
    },
    {
     "data": {
      "image/png": "[encoded data removed]",
      "text/plain": [
       "<Figure size 640x480 with 1 Axes>"
      ]
     },
     "metadata": {},
     "output_type": "display_data"
    }
   ],
   "source": [
    "index = 200\n",
    "plt.imshow(train_set_x_orig[index])\n",
    "print (\"y = \" + str(train_set_y[:, index]) + \", it's a '\" + classes[np.squeeze(train_set_y[:, index])].decode(\"utf-8\") +  \"' picture.\")"
   ]
  },
  {
   "cell_type": "code",
   "execution_count": 5,
   "id": "68e8169a",
   "metadata": {
    "execution": {
     "iopub.execute_input": "2023-05-16T17:27:30.243594Z",
     "iopub.status.busy": "2023-05-16T17:27:30.243188Z",
     "iopub.status.idle": "2023-05-16T17:27:30.252657Z",
     "shell.execute_reply": "2023-05-16T17:27:30.251459Z"
    },
    "papermill": {
     "duration": 0.02684,
     "end_time": "2023-05-16T17:27:30.255203",
     "exception": false,
     "start_time": "2023-05-16T17:27:30.228363",
     "status": "completed"
    },
    "tags": []
   },
   "outputs": [
    {
     "name": "stdout",
     "output_type": "stream",
     "text": [
      "Number of training examples: m_train = 209\n",
      "Number of testing examples: m_test = 50\n",
      "Height/Width of each image: num_px = 64\n",
      "Each image is of size: (64, 64, 3)\n",
      "train_set_x shape: (209, 64, 64, 3)\n",
      "train_set_y shape: (1, 209)\n",
      "test_set_x shape: (50, 64, 64, 3)\n",
      "test_set_y shape: (1, 50)\n"
     ]
    }
   ],
   "source": [
    "m_train = train_set_x_orig.shape[0]\n",
    "m_test = test_set_x_orig.shape[0]\n",
    "num_px = train_set_x_orig.shape[1]\n",
    "print (\"Number of training examples: m_train = \" + str(m_train))\n",
    "print (\"Number of testing examples: m_test = \" + str(m_test))\n",
    "print (\"Height/Width of each image: num_px = \" + str(num_px))\n",
    "print (\"Each image is of size: (\" + str(num_px) + \", \" + str(num_px) + \", 3)\")\n",
    "print (\"train_set_x shape: \" + str(train_set_x_orig.shape))\n",
    "print (\"train_set_y shape: \" + str(train_set_y.shape))\n",
    "print (\"test_set_x shape: \" + str(test_set_x_orig.shape))\n",
    "print (\"test_set_y shape: \" + str(test_set_y.shape))"
   ]
  },
  {
   "cell_type": "code",
   "execution_count": 6,
   "id": "a5392aa6",
   "metadata": {
    "execution": {
     "iopub.execute_input": "2023-05-16T17:27:30.285290Z",
     "iopub.status.busy": "2023-05-16T17:27:30.284815Z",
     "iopub.status.idle": "2023-05-16T17:27:30.293479Z",
     "shell.execute_reply": "2023-05-16T17:27:30.292232Z"
    },
    "papermill": {
     "duration": 0.02712,
     "end_time": "2023-05-16T17:27:30.296284",
     "exception": false,
     "start_time": "2023-05-16T17:27:30.269164",
     "status": "completed"
    },
    "tags": []
   },
   "outputs": [
    {
     "name": "stdout",
     "output_type": "stream",
     "text": [
      "train_set_x_flatten shape: (12288, 209)\n",
      "train_set_y shape: (1, 209)\n",
      "test_set_x_flatten shape: (12288, 50)\n",
      "test_set_y shape: (1, 50)\n",
      "sanity check after reshaping: [17 31 56 22 33]\n"
     ]
    }
   ],
   "source": [
    "train_set_x_flatten = train_set_x_orig.reshape(train_set_x_orig.shape[0], -1).T\n",
    "test_set_x_flatten = test_set_x_orig.reshape(test_set_x_orig.shape[0],-1).T\n",
    "print (\"train_set_x_flatten shape: \" + str(train_set_x_flatten.shape))\n",
    "print (\"train_set_y shape: \" + str(train_set_y.shape))\n",
    "print (\"test_set_x_flatten shape: \" + str(test_set_x_flatten.shape))\n",
    "print (\"test_set_y shape: \" + str(test_set_y.shape))\n",
    "print (\"sanity check after reshaping: \" + str(train_set_x_flatten[0:5,0]))"
   ]
  },
  {
   "cell_type": "code",
   "execution_count": 7,
   "id": "d22c311b",
   "metadata": {
    "execution": {
     "iopub.execute_input": "2023-05-16T17:27:30.326228Z",
     "iopub.status.busy": "2023-05-16T17:27:30.325789Z",
     "iopub.status.idle": "2023-05-16T17:27:30.345363Z",
     "shell.execute_reply": "2023-05-16T17:27:30.344318Z"
    },
    "papermill": {
     "duration": 0.038165,
     "end_time": "2023-05-16T17:27:30.348619",
     "exception": false,
     "start_time": "2023-05-16T17:27:30.310454",
     "status": "completed"
    },
    "tags": []
   },
   "outputs": [],
   "source": [
    "train_set_x = np.divide(train_set_x_flatten,255)\n",
    "test_set_x = np.divide(test_set_x_flatten, 255)"
   ]
  },
  {
   "cell_type": "code",
   "execution_count": 8,
   "id": "5b73aa8b",
   "metadata": {
    "execution": {
     "iopub.execute_input": "2023-05-16T17:27:30.379078Z",
     "iopub.status.busy": "2023-05-16T17:27:30.378671Z",
     "iopub.status.idle": "2023-05-16T17:27:30.386505Z",
     "shell.execute_reply": "2023-05-16T17:27:30.385211Z"
    },
    "papermill": {
     "duration": 0.026079,
     "end_time": "2023-05-16T17:27:30.388937",
     "exception": false,
     "start_time": "2023-05-16T17:27:30.362858",
     "status": "completed"
    },
    "tags": []
   },
   "outputs": [
    {
     "name": "stdout",
     "output_type": "stream",
     "text": [
      "[[0.06666667 0.76862745 0.32156863 ... 0.56078431 0.08627451 0.03137255]\n",
      " [0.12156863 0.75294118 0.27843137 ... 0.60784314 0.09411765 0.10980392]\n",
      " [0.21960784 0.74509804 0.26666667 ... 0.64705882 0.09019608 0.20784314]\n",
      " ...\n",
      " [0.         0.32156863 0.54117647 ... 0.33333333 0.01568627 0.        ]\n",
      " [0.         0.31372549 0.55294118 ... 0.41960784 0.01960784 0.        ]\n",
      " [0.         0.31764706 0.55686275 ... 0.58431373 0.         0.        ]]\n",
      "[[0.61960784 0.45098039 1.         ... 0.16078431 0.07058824 0.52156863]\n",
      " [0.40784314 0.43137255 0.99215686 ... 0.18431373 0.07058824 0.63921569]\n",
      " [0.3254902  0.43529412 0.99607843 ... 0.32941176 0.0627451  0.29411765]\n",
      " ...\n",
      " [0.67843137 0.67058824 0.52156863 ... 0.71764706 0.56470588 0.01960784]\n",
      " [0.50196078 0.69019608 0.39607843 ... 0.55294118 0.5372549  0.08627451]\n",
      " [0.43137255 0.72941176 0.4745098  ... 0.45490196 0.42352941 0.01960784]]\n"
     ]
    }
   ],
   "source": [
    "print(train_set_x)\n",
    "print(test_set_x)"
   ]
  },
  {
   "cell_type": "markdown",
   "id": "a6364234",
   "metadata": {
    "papermill": {
     "duration": 0.013612,
     "end_time": "2023-05-16T17:27:30.416823",
     "exception": false,
     "start_time": "2023-05-16T17:27:30.403211",
     "status": "completed"
    },
    "tags": []
   },
   "source": [
    "## Build neural network model"
   ]
  },
  {
   "cell_type": "markdown",
   "id": "c9903e0f",
   "metadata": {
    "papermill": {
     "duration": 0.013645,
     "end_time": "2023-05-16T17:27:30.444440",
     "exception": false,
     "start_time": "2023-05-16T17:27:30.430795",
     "status": "completed"
    },
    "tags": []
   },
   "source": [
    "### Activation functions"
   ]
  },
  {
   "cell_type": "code",
   "execution_count": 9,
   "id": "db793333",
   "metadata": {
    "execution": {
     "iopub.execute_input": "2023-05-16T17:27:30.474324Z",
     "iopub.status.busy": "2023-05-16T17:27:30.473875Z",
     "iopub.status.idle": "2023-05-16T17:27:30.479132Z",
     "shell.execute_reply": "2023-05-16T17:27:30.477986Z"
    },
    "papermill": {
     "duration": 0.023163,
     "end_time": "2023-05-16T17:27:30.481577",
     "exception": false,
     "start_time": "2023-05-16T17:27:30.458414",
     "status": "completed"
    },
    "tags": []
   },
   "outputs": [],
   "source": [
    "def sigmoid(z):\n",
    "    s = 1/(1+np.exp(-z))\n",
    "    return s"
   ]
  },
  {
   "cell_type": "code",
   "execution_count": 10,
   "id": "1633940a",
   "metadata": {
    "execution": {
     "iopub.execute_input": "2023-05-16T17:27:30.511896Z",
     "iopub.status.busy": "2023-05-16T17:27:30.511522Z",
     "iopub.status.idle": "2023-05-16T17:27:30.516277Z",
     "shell.execute_reply": "2023-05-16T17:27:30.515488Z"
    },
    "papermill": {
     "duration": 0.022317,
     "end_time": "2023-05-16T17:27:30.518374",
     "exception": false,
     "start_time": "2023-05-16T17:27:30.496057",
     "status": "completed"
    },
    "tags": []
   },
   "outputs": [],
   "source": [
    "def relu(z):\n",
    "    s = np.zeros_like(z)\n",
    "    s[z > 0] = z[z > 0]\n",
    "    return s"
   ]
  },
  {
   "cell_type": "code",
   "execution_count": 11,
   "id": "054b8727",
   "metadata": {
    "execution": {
     "iopub.execute_input": "2023-05-16T17:27:30.549039Z",
     "iopub.status.busy": "2023-05-16T17:27:30.548611Z",
     "iopub.status.idle": "2023-05-16T17:27:30.554538Z",
     "shell.execute_reply": "2023-05-16T17:27:30.553271Z"
    },
    "papermill": {
     "duration": 0.023861,
     "end_time": "2023-05-16T17:27:30.556861",
     "exception": false,
     "start_time": "2023-05-16T17:27:30.533000",
     "status": "completed"
    },
    "tags": []
   },
   "outputs": [],
   "source": [
    "def activation(z,function = \"sigmoid\"):\n",
    "    if function == \"tanh\":\n",
    "        a = np.tanh(z)\n",
    "    if function == \"sigmoid\":\n",
    "        a = sigmoid(z)\n",
    "    if function == \"relu\":\n",
    "        a = relu(z)\n",
    "    return a"
   ]
  },
  {
   "cell_type": "markdown",
   "id": "3197553a",
   "metadata": {
    "papermill": {
     "duration": 0.014214,
     "end_time": "2023-05-16T17:27:30.585803",
     "exception": false,
     "start_time": "2023-05-16T17:27:30.571589",
     "status": "completed"
    },
    "tags": []
   },
   "source": [
    "### Initialization"
   ]
  },
  {
   "cell_type": "code",
   "execution_count": 12,
   "id": "34a30427",
   "metadata": {
    "execution": {
     "iopub.execute_input": "2023-05-16T17:27:30.616842Z",
     "iopub.status.busy": "2023-05-16T17:27:30.616418Z",
     "iopub.status.idle": "2023-05-16T17:27:30.622042Z",
     "shell.execute_reply": "2023-05-16T17:27:30.620847Z"
    },
    "papermill": {
     "duration": 0.023997,
     "end_time": "2023-05-16T17:27:30.624270",
     "exception": false,
     "start_time": "2023-05-16T17:27:30.600273",
     "status": "completed"
    },
    "tags": []
   },
   "outputs": [],
   "source": [
    "def layer_sizes(X, Y, n_h=5):\n",
    "    n_x = X.shape[0] # size of input layer\n",
    "    n_y = Y.shape[0] # size of output layer\n",
    "    return (n_x, n_h, n_y)"
   ]
  },
  {
   "cell_type": "code",
   "execution_count": 13,
   "id": "888bda19",
   "metadata": {
    "execution": {
     "iopub.execute_input": "2023-05-16T17:27:30.655323Z",
     "iopub.status.busy": "2023-05-16T17:27:30.654647Z",
     "iopub.status.idle": "2023-05-16T17:27:30.660801Z",
     "shell.execute_reply": "2023-05-16T17:27:30.659794Z"
    },
    "papermill": {
     "duration": 0.024126,
     "end_time": "2023-05-16T17:27:30.662841",
     "exception": false,
     "start_time": "2023-05-16T17:27:30.638715",
     "status": "completed"
    },
    "tags": []
   },
   "outputs": [
    {
     "name": "stdout",
     "output_type": "stream",
     "text": [
      "The size of the input layer is: n_x = 12288\n",
      "The size of the hidden layer is: n_h = 5\n",
      "The size of the output layer is: n_y = 1\n"
     ]
    }
   ],
   "source": [
    "(n_x, n_h, n_y) = layer_sizes(train_set_x, train_set_y) #,size_hiden_layer\n",
    "print(\"The size of the input layer is: n_x = \" + str(n_x))\n",
    "print(\"The size of the hidden layer is: n_h = \" + str(n_h))\n",
    "print(\"The size of the output layer is: n_y = \" + str(n_y))"
   ]
  },
  {
   "cell_type": "code",
   "execution_count": 14,
   "id": "a109f53f",
   "metadata": {
    "execution": {
     "iopub.execute_input": "2023-05-16T17:27:30.694719Z",
     "iopub.status.busy": "2023-05-16T17:27:30.693627Z",
     "iopub.status.idle": "2023-05-16T17:27:30.702620Z",
     "shell.execute_reply": "2023-05-16T17:27:30.701490Z"
    },
    "papermill": {
     "duration": 0.027801,
     "end_time": "2023-05-16T17:27:30.705187",
     "exception": false,
     "start_time": "2023-05-16T17:27:30.677386",
     "status": "completed"
    },
    "tags": []
   },
   "outputs": [],
   "source": [
    "def random_initialize(n_x, n_h, n_y):\n",
    "    np.random.seed(2)\n",
    "    \n",
    "    W1 = np.random.randn(n_h, n_x) * 0.01\n",
    "    b1 = np.zeros((n_h, 1))\n",
    "    W2 = np.random.randn(n_y, n_h) * 0.01\n",
    "    b2 = np.zeros((n_y, 1))\n",
    "    \n",
    "    assert (W1.shape == (n_h, n_x))\n",
    "    assert (b1.shape == (n_h, 1))\n",
    "    assert (W2.shape == (n_y, n_h))\n",
    "    assert (b2.shape == (n_y, 1))\n",
    "    \n",
    "    parameters = {\"W1\": W1,\n",
    "                  \"b1\": b1,\n",
    "                  \"W2\": W2,\n",
    "                  \"b2\": b2}\n",
    "    \n",
    "    return parameters"
   ]
  },
  {
   "cell_type": "code",
   "execution_count": 15,
   "id": "4b1012b8",
   "metadata": {
    "execution": {
     "iopub.execute_input": "2023-05-16T17:27:30.736569Z",
     "iopub.status.busy": "2023-05-16T17:27:30.736191Z",
     "iopub.status.idle": "2023-05-16T17:27:30.755630Z",
     "shell.execute_reply": "2023-05-16T17:27:30.753965Z"
    },
    "papermill": {
     "duration": 0.038376,
     "end_time": "2023-05-16T17:27:30.758266",
     "exception": false,
     "start_time": "2023-05-16T17:27:30.719890",
     "status": "completed"
    },
    "tags": []
   },
   "outputs": [
    {
     "name": "stdout",
     "output_type": "stream",
     "text": [
      "W1 = [[-0.00416758 -0.00056267 -0.02136196 ... -0.01275513  0.00733372\n",
      "   0.01166127]\n",
      " [ 0.00016076  0.00699494 -0.02144254 ... -0.00569705 -0.00276633\n",
      "   0.0011016 ]\n",
      " [-0.00553107  0.00678748 -0.00870469 ...  0.00174631  0.00395599\n",
      "  -0.00136441]\n",
      " [-0.00701089  0.00335768 -0.00122743 ...  0.01439597 -0.00733648\n",
      "  -0.0040589 ]\n",
      " [-0.01336063  0.00115223 -0.00207114 ...  0.0137649  -0.02380295\n",
      "  -0.01593256]]\n",
      "b1 = [[0.]\n",
      " [0.]\n",
      " [0.]\n",
      " [0.]\n",
      " [0.]]\n",
      "W2 = [[ 0.00056978 -0.0046458  -0.01014297 -0.0078986   0.00207051]]\n",
      "b2 = [[0.]]\n"
     ]
    }
   ],
   "source": [
    "parameters = random_initialize(n_x, n_h, n_y)\n",
    "print(\"W1 = \" + str(parameters[\"W1\"]))\n",
    "print(\"b1 = \" + str(parameters[\"b1\"]))\n",
    "print(\"W2 = \" + str(parameters[\"W2\"]))\n",
    "print(\"b2 = \" + str(parameters[\"b2\"]))"
   ]
  },
  {
   "cell_type": "code",
   "execution_count": 16,
   "id": "42739512",
   "metadata": {
    "execution": {
     "iopub.execute_input": "2023-05-16T17:27:30.789998Z",
     "iopub.status.busy": "2023-05-16T17:27:30.789215Z",
     "iopub.status.idle": "2023-05-16T17:27:30.797120Z",
     "shell.execute_reply": "2023-05-16T17:27:30.796092Z"
    },
    "papermill": {
     "duration": 0.026495,
     "end_time": "2023-05-16T17:27:30.799484",
     "exception": false,
     "start_time": "2023-05-16T17:27:30.772989",
     "status": "completed"
    },
    "tags": []
   },
   "outputs": [],
   "source": [
    "def initialize_with_zeros(n_x, n_h, n_y):\n",
    "    W1 = np.zeros((n_h, n_x))\n",
    "    b1 = np.zeros((n_h, 1))\n",
    "    W2 = np.zeros((n_y, n_h))\n",
    "    b2 = np.zeros((n_y, 1))\n",
    "    \n",
    "    assert (W1.shape == (n_h, n_x))\n",
    "    assert (b1.shape == (n_h, 1))\n",
    "    assert (W2.shape == (n_y, n_h))\n",
    "    assert (b2.shape == (n_y, 1))\n",
    "    \n",
    "    parameters = {\"W1\": W1,\n",
    "                  \"b1\": b1,\n",
    "                  \"W2\": W2,\n",
    "                  \"b2\": b2}\n",
    "    \n",
    "    return parameters"
   ]
  },
  {
   "cell_type": "code",
   "execution_count": 17,
   "id": "f3465396",
   "metadata": {
    "execution": {
     "iopub.execute_input": "2023-05-16T17:27:30.831429Z",
     "iopub.status.busy": "2023-05-16T17:27:30.830638Z",
     "iopub.status.idle": "2023-05-16T17:27:30.839386Z",
     "shell.execute_reply": "2023-05-16T17:27:30.837771Z"
    },
    "papermill": {
     "duration": 0.027392,
     "end_time": "2023-05-16T17:27:30.841597",
     "exception": false,
     "start_time": "2023-05-16T17:27:30.814205",
     "status": "completed"
    },
    "tags": []
   },
   "outputs": [
    {
     "name": "stdout",
     "output_type": "stream",
     "text": [
      "W1 = [[0. 0. 0. ... 0. 0. 0.]\n",
      " [0. 0. 0. ... 0. 0. 0.]\n",
      " [0. 0. 0. ... 0. 0. 0.]\n",
      " [0. 0. 0. ... 0. 0. 0.]\n",
      " [0. 0. 0. ... 0. 0. 0.]]\n",
      "b1 = [[0.]\n",
      " [0.]\n",
      " [0.]\n",
      " [0.]\n",
      " [0.]]\n",
      "W2 = [[0. 0. 0. 0. 0.]]\n",
      "b2 = [[0.]]\n"
     ]
    }
   ],
   "source": [
    "parameters = initialize_with_zeros(n_x, n_h, n_y)\n",
    "print(\"W1 = \" + str(parameters[\"W1\"]))\n",
    "print(\"b1 = \" + str(parameters[\"b1\"]))\n",
    "print(\"W2 = \" + str(parameters[\"W2\"]))\n",
    "print(\"b2 = \" + str(parameters[\"b2\"]))"
   ]
  },
  {
   "cell_type": "markdown",
   "id": "5a2a2640",
   "metadata": {
    "papermill": {
     "duration": 0.015282,
     "end_time": "2023-05-16T17:27:30.872077",
     "exception": false,
     "start_time": "2023-05-16T17:27:30.856795",
     "status": "completed"
    },
    "tags": []
   },
   "source": [
    "### Parts of the model"
   ]
  },
  {
   "cell_type": "code",
   "execution_count": 18,
   "id": "31a398ff",
   "metadata": {
    "execution": {
     "iopub.execute_input": "2023-05-16T17:27:30.904740Z",
     "iopub.status.busy": "2023-05-16T17:27:30.903553Z",
     "iopub.status.idle": "2023-05-16T17:27:30.911136Z",
     "shell.execute_reply": "2023-05-16T17:27:30.910284Z"
    },
    "papermill": {
     "duration": 0.026318,
     "end_time": "2023-05-16T17:27:30.913476",
     "exception": false,
     "start_time": "2023-05-16T17:27:30.887158",
     "status": "completed"
    },
    "tags": []
   },
   "outputs": [],
   "source": [
    "def forward_propagation(X, parameters,function1 = \"tanh\",function2 = \"sigmoid\"):\n",
    "    W1 = parameters[\"W1\"]\n",
    "    b1 = parameters[\"b1\"]\n",
    "    W2 = parameters[\"W2\"]\n",
    "    b2 = parameters[\"b2\"]\n",
    "\n",
    "    Z1 = np.dot(W1, X) + b1\n",
    "    A1 = activation(Z1,function1)\n",
    "    Z2 = np.dot(W2, A1) + b2\n",
    "    A2 = activation(Z2,function2)\n",
    "    \n",
    "    assert(A2.shape == (1, X.shape[1]))\n",
    "    \n",
    "    cache = {\"Z1\": Z1,\n",
    "             \"A1\": A1,\n",
    "             \"Z2\": Z2,\n",
    "             \"A2\": A2}\n",
    "    \n",
    "    return A2, cache"
   ]
  },
  {
   "cell_type": "code",
   "execution_count": 19,
   "id": "b81a2340",
   "metadata": {
    "execution": {
     "iopub.execute_input": "2023-05-16T17:27:30.945138Z",
     "iopub.status.busy": "2023-05-16T17:27:30.944729Z",
     "iopub.status.idle": "2023-05-16T17:27:30.970441Z",
     "shell.execute_reply": "2023-05-16T17:27:30.968886Z"
    },
    "papermill": {
     "duration": 0.04603,
     "end_time": "2023-05-16T17:27:30.974548",
     "exception": false,
     "start_time": "2023-05-16T17:27:30.928518",
     "status": "completed"
    },
    "tags": []
   },
   "outputs": [
    {
     "name": "stdout",
     "output_type": "stream",
     "text": [
      "Z1[[0. 0. 0. ... 0. 0. 0.]\n",
      " [0. 0. 0. ... 0. 0. 0.]\n",
      " [0. 0. 0. ... 0. 0. 0.]\n",
      " [0. 0. 0. ... 0. 0. 0.]\n",
      " [0. 0. 0. ... 0. 0. 0.]]\n",
      "A1[[0. 0. 0. ... 0. 0. 0.]\n",
      " [0. 0. 0. ... 0. 0. 0.]\n",
      " [0. 0. 0. ... 0. 0. 0.]\n",
      " [0. 0. 0. ... 0. 0. 0.]\n",
      " [0. 0. 0. ... 0. 0. 0.]]\n",
      "Z2[[0. 0. 0. 0. 0. 0. 0. 0. 0. 0. 0. 0. 0. 0. 0. 0. 0. 0. 0. 0. 0. 0. 0. 0.\n",
      "  0. 0. 0. 0. 0. 0. 0. 0. 0. 0. 0. 0. 0. 0. 0. 0. 0. 0. 0. 0. 0. 0. 0. 0.\n",
      "  0. 0. 0. 0. 0. 0. 0. 0. 0. 0. 0. 0. 0. 0. 0. 0. 0. 0. 0. 0. 0. 0. 0. 0.\n",
      "  0. 0. 0. 0. 0. 0. 0. 0. 0. 0. 0. 0. 0. 0. 0. 0. 0. 0. 0. 0. 0. 0. 0. 0.\n",
      "  0. 0. 0. 0. 0. 0. 0. 0. 0. 0. 0. 0. 0. 0. 0. 0. 0. 0. 0. 0. 0. 0. 0. 0.\n",
      "  0. 0. 0. 0. 0. 0. 0. 0. 0. 0. 0. 0. 0. 0. 0. 0. 0. 0. 0. 0. 0. 0. 0. 0.\n",
      "  0. 0. 0. 0. 0. 0. 0. 0. 0. 0. 0. 0. 0. 0. 0. 0. 0. 0. 0. 0. 0. 0. 0. 0.\n",
      "  0. 0. 0. 0. 0. 0. 0. 0. 0. 0. 0. 0. 0. 0. 0. 0. 0. 0. 0. 0. 0. 0. 0. 0.\n",
      "  0. 0. 0. 0. 0. 0. 0. 0. 0. 0. 0. 0. 0. 0. 0. 0. 0.]]\n",
      "A2[[0.5 0.5 0.5 0.5 0.5 0.5 0.5 0.5 0.5 0.5 0.5 0.5 0.5 0.5 0.5 0.5 0.5 0.5\n",
      "  0.5 0.5 0.5 0.5 0.5 0.5 0.5 0.5 0.5 0.5 0.5 0.5 0.5 0.5 0.5 0.5 0.5 0.5\n",
      "  0.5 0.5 0.5 0.5 0.5 0.5 0.5 0.5 0.5 0.5 0.5 0.5 0.5 0.5 0.5 0.5 0.5 0.5\n",
      "  0.5 0.5 0.5 0.5 0.5 0.5 0.5 0.5 0.5 0.5 0.5 0.5 0.5 0.5 0.5 0.5 0.5 0.5\n",
      "  0.5 0.5 0.5 0.5 0.5 0.5 0.5 0.5 0.5 0.5 0.5 0.5 0.5 0.5 0.5 0.5 0.5 0.5\n",
      "  0.5 0.5 0.5 0.5 0.5 0.5 0.5 0.5 0.5 0.5 0.5 0.5 0.5 0.5 0.5 0.5 0.5 0.5\n",
      "  0.5 0.5 0.5 0.5 0.5 0.5 0.5 0.5 0.5 0.5 0.5 0.5 0.5 0.5 0.5 0.5 0.5 0.5\n",
      "  0.5 0.5 0.5 0.5 0.5 0.5 0.5 0.5 0.5 0.5 0.5 0.5 0.5 0.5 0.5 0.5 0.5 0.5\n",
      "  0.5 0.5 0.5 0.5 0.5 0.5 0.5 0.5 0.5 0.5 0.5 0.5 0.5 0.5 0.5 0.5 0.5 0.5\n",
      "  0.5 0.5 0.5 0.5 0.5 0.5 0.5 0.5 0.5 0.5 0.5 0.5 0.5 0.5 0.5 0.5 0.5 0.5\n",
      "  0.5 0.5 0.5 0.5 0.5 0.5 0.5 0.5 0.5 0.5 0.5 0.5 0.5 0.5 0.5 0.5 0.5 0.5\n",
      "  0.5 0.5 0.5 0.5 0.5 0.5 0.5 0.5 0.5 0.5 0.5]]\n"
     ]
    }
   ],
   "source": [
    "A2, cache = forward_propagation(train_set_x,parameters, function1 = \"relu\")\n",
    "print(\"Z1\"+ str(cache[\"Z1\"]))\n",
    "print(\"A1\"+ str(cache[\"A1\"]))\n",
    "print(\"Z2\"+ str(cache[\"Z2\"]))\n",
    "print(\"A2\"+ str(cache[\"A2\"]))"
   ]
  },
  {
   "cell_type": "code",
   "execution_count": 20,
   "id": "788c4bc7",
   "metadata": {
    "execution": {
     "iopub.execute_input": "2023-05-16T17:27:31.040160Z",
     "iopub.status.busy": "2023-05-16T17:27:31.039457Z",
     "iopub.status.idle": "2023-05-16T17:27:31.050299Z",
     "shell.execute_reply": "2023-05-16T17:27:31.048841Z"
    },
    "papermill": {
     "duration": 0.048141,
     "end_time": "2023-05-16T17:27:31.053992",
     "exception": false,
     "start_time": "2023-05-16T17:27:31.005851",
     "status": "completed"
    },
    "tags": []
   },
   "outputs": [],
   "source": [
    "def compute_cost(A2, Y, parameters):\n",
    "    \n",
    "    m = Y.shape[1] # number of example\n",
    "\n",
    "    logprobs = np.multiply(np.log(A2),Y) + np.multiply(np.log(1-A2), 1-Y)\n",
    "    cost = - np.sum(logprobs) / m\n",
    "    \n",
    "    cost = Decimal(str(np.squeeze(cost)))  # makes sure cost is the dimension we expect. \n",
    "    #assert(isinstance(cost, float))\n",
    "    \n",
    "    return cost"
   ]
  },
  {
   "cell_type": "code",
   "execution_count": 21,
   "id": "8c168c57",
   "metadata": {
    "execution": {
     "iopub.execute_input": "2023-05-16T17:27:31.096219Z",
     "iopub.status.busy": "2023-05-16T17:27:31.095771Z",
     "iopub.status.idle": "2023-05-16T17:27:31.101306Z",
     "shell.execute_reply": "2023-05-16T17:27:31.100555Z"
    },
    "papermill": {
     "duration": 0.024447,
     "end_time": "2023-05-16T17:27:31.103707",
     "exception": false,
     "start_time": "2023-05-16T17:27:31.079260",
     "status": "completed"
    },
    "tags": []
   },
   "outputs": [
    {
     "name": "stdout",
     "output_type": "stream",
     "text": [
      "cost: 0.6931471805599453\n"
     ]
    }
   ],
   "source": [
    "cost = compute_cost(A2, train_set_y, parameters)\n",
    "print(\"cost:\", cost)"
   ]
  },
  {
   "cell_type": "code",
   "execution_count": 22,
   "id": "d00fe4c4",
   "metadata": {
    "execution": {
     "iopub.execute_input": "2023-05-16T17:27:31.136797Z",
     "iopub.status.busy": "2023-05-16T17:27:31.136344Z",
     "iopub.status.idle": "2023-05-16T17:27:31.144903Z",
     "shell.execute_reply": "2023-05-16T17:27:31.143778Z"
    },
    "papermill": {
     "duration": 0.027725,
     "end_time": "2023-05-16T17:27:31.147200",
     "exception": false,
     "start_time": "2023-05-16T17:27:31.119475",
     "status": "completed"
    },
    "tags": []
   },
   "outputs": [],
   "source": [
    "def backward_propagation(parameters, cache, X, Y):\n",
    "    m = X.shape[1]\n",
    "\n",
    "    W1 = parameters[\"W1\"]\n",
    "    W2 = parameters[\"W2\"]\n",
    "\n",
    "    A1 = cache[\"A1\"]\n",
    "    A2 = cache[\"A2\"]\n",
    "\n",
    "    dZ2 = A2 - Y\n",
    "    dW2 = (1/m) * np.dot(dZ2, A1.T)\n",
    "    db2 = (1/m) * np.sum(dZ2, axis=1, keepdims=True)\n",
    "    dZ1 = np.dot(W2.T, dZ2) * (1 - np.power(A1, 2))\n",
    "    dW1 = (1/m) * np.dot(dZ1, X.T)\n",
    "    db1 = (1/m) * np.sum(dZ1, axis=1, keepdims=True)\n",
    "\n",
    "    grads = {\"dW1\": dW1,\n",
    "             \"db1\": db1,\n",
    "             \"dW2\": dW2,\n",
    "             \"db2\": db2}\n",
    "    \n",
    "    return grads"
   ]
  },
  {
   "cell_type": "code",
   "execution_count": 23,
   "id": "c2d636d8",
   "metadata": {
    "execution": {
     "iopub.execute_input": "2023-05-16T17:27:31.180243Z",
     "iopub.status.busy": "2023-05-16T17:27:31.179488Z",
     "iopub.status.idle": "2023-05-16T17:27:31.198889Z",
     "shell.execute_reply": "2023-05-16T17:27:31.197448Z"
    },
    "papermill": {
     "duration": 0.039843,
     "end_time": "2023-05-16T17:27:31.202627",
     "exception": false,
     "start_time": "2023-05-16T17:27:31.162784",
     "status": "completed"
    },
    "tags": []
   },
   "outputs": [
    {
     "name": "stdout",
     "output_type": "stream",
     "text": [
      "dW1[[0. 0. 0. ... 0. 0. 0.]\n",
      " [0. 0. 0. ... 0. 0. 0.]\n",
      " [0. 0. 0. ... 0. 0. 0.]\n",
      " [0. 0. 0. ... 0. 0. 0.]\n",
      " [0. 0. 0. ... 0. 0. 0.]]\n",
      "db1[[0.]\n",
      " [0.]\n",
      " [0.]\n",
      " [0.]\n",
      " [0.]]\n",
      "dW2[[0. 0. 0. 0. 0.]]\n",
      "db2[[0.15550239]]\n"
     ]
    }
   ],
   "source": [
    "grads = backward_propagation(parameters,cache, train_set_x,train_set_y)\n",
    "print(\"dW1\"+ str(grads[\"dW1\"]))\n",
    "print(\"db1\"+ str(grads[\"db1\"]))\n",
    "print(\"dW2\"+ str(grads[\"dW2\"]))\n",
    "print(\"db2\"+ str(grads[\"db2\"]))"
   ]
  },
  {
   "cell_type": "code",
   "execution_count": 24,
   "id": "50641ffe",
   "metadata": {
    "execution": {
     "iopub.execute_input": "2023-05-16T17:27:31.270164Z",
     "iopub.status.busy": "2023-05-16T17:27:31.269393Z",
     "iopub.status.idle": "2023-05-16T17:27:31.282455Z",
     "shell.execute_reply": "2023-05-16T17:27:31.281020Z"
    },
    "papermill": {
     "duration": 0.051317,
     "end_time": "2023-05-16T17:27:31.286339",
     "exception": false,
     "start_time": "2023-05-16T17:27:31.235022",
     "status": "completed"
    },
    "tags": []
   },
   "outputs": [],
   "source": [
    "def update_parameters(parameters, grads, learning_rate = 0.001):\n",
    "\n",
    "    W1 = parameters[\"W1\"]\n",
    "    b1 = parameters[\"b1\"]\n",
    "    W2 = parameters[\"W2\"]\n",
    "    b2 = parameters[\"b2\"]\n",
    "\n",
    "    dW1 = grads[\"dW1\"]\n",
    "    db1 = grads[\"db1\"]\n",
    "    dW2 = grads[\"dW2\"]\n",
    "    db2 = grads[\"db2\"]\n",
    "\n",
    "    W1 = W1 - learning_rate * dW1\n",
    "    b1 = b1 - learning_rate * db1\n",
    "    W2 = W2 - learning_rate * dW2\n",
    "    b2 = b2 - learning_rate * db2\n",
    "\n",
    "    parameters = {\"W1\": W1,\n",
    "                  \"b1\": b1,\n",
    "                  \"W2\": W2,\n",
    "                  \"b2\": b2}\n",
    "    \n",
    "    return parameters"
   ]
  },
  {
   "cell_type": "code",
   "execution_count": 25,
   "id": "7b094df3",
   "metadata": {
    "execution": {
     "iopub.execute_input": "2023-05-16T17:27:31.334278Z",
     "iopub.status.busy": "2023-05-16T17:27:31.333387Z",
     "iopub.status.idle": "2023-05-16T17:27:31.342278Z",
     "shell.execute_reply": "2023-05-16T17:27:31.341132Z"
    },
    "papermill": {
     "duration": 0.028284,
     "end_time": "2023-05-16T17:27:31.344700",
     "exception": false,
     "start_time": "2023-05-16T17:27:31.316416",
     "status": "completed"
    },
    "tags": []
   },
   "outputs": [
    {
     "name": "stdout",
     "output_type": "stream",
     "text": [
      "W1 = [[0. 0. 0. ... 0. 0. 0.]\n",
      " [0. 0. 0. ... 0. 0. 0.]\n",
      " [0. 0. 0. ... 0. 0. 0.]\n",
      " [0. 0. 0. ... 0. 0. 0.]\n",
      " [0. 0. 0. ... 0. 0. 0.]]\n",
      "b1 = [[0.]\n",
      " [0.]\n",
      " [0.]\n",
      " [0.]\n",
      " [0.]]\n",
      "W2 = [[0. 0. 0. 0. 0.]]\n",
      "b2 = [[-0.0001555]]\n"
     ]
    }
   ],
   "source": [
    "parameters = update_parameters(parameters,grads)\n",
    "print(\"W1 = \" + str(parameters[\"W1\"]))\n",
    "print(\"b1 = \" + str(parameters[\"b1\"]))\n",
    "print(\"W2 = \" + str(parameters[\"W2\"]))\n",
    "print(\"b2 = \" + str(parameters[\"b2\"]))"
   ]
  },
  {
   "cell_type": "code",
   "execution_count": 26,
   "id": "3a903099",
   "metadata": {
    "execution": {
     "iopub.execute_input": "2023-05-16T17:27:31.379207Z",
     "iopub.status.busy": "2023-05-16T17:27:31.378246Z",
     "iopub.status.idle": "2023-05-16T17:27:31.383610Z",
     "shell.execute_reply": "2023-05-16T17:27:31.382492Z"
    },
    "papermill": {
     "duration": 0.024887,
     "end_time": "2023-05-16T17:27:31.385932",
     "exception": false,
     "start_time": "2023-05-16T17:27:31.361045",
     "status": "completed"
    },
    "tags": []
   },
   "outputs": [],
   "source": [
    "def predict(parameters, X):\n",
    "    A2, cache = forward_propagation(X, parameters)\n",
    "    predictions = (A2 > 0.5).astype('int')\n",
    "    \n",
    "    return predictions"
   ]
  },
  {
   "cell_type": "markdown",
   "id": "d0fba926",
   "metadata": {
    "papermill": {
     "duration": 0.015836,
     "end_time": "2023-05-16T17:27:31.418122",
     "exception": false,
     "start_time": "2023-05-16T17:27:31.402286",
     "status": "completed"
    },
    "tags": []
   },
   "source": [
    "### Model function"
   ]
  },
  {
   "cell_type": "code",
   "execution_count": 27,
   "id": "79d4601e",
   "metadata": {
    "execution": {
     "iopub.execute_input": "2023-05-16T17:27:31.452311Z",
     "iopub.status.busy": "2023-05-16T17:27:31.451754Z",
     "iopub.status.idle": "2023-05-16T17:27:31.465232Z",
     "shell.execute_reply": "2023-05-16T17:27:31.464290Z"
    },
    "papermill": {
     "duration": 0.033038,
     "end_time": "2023-05-16T17:27:31.467501",
     "exception": false,
     "start_time": "2023-05-16T17:27:31.434463",
     "status": "completed"
    },
    "tags": []
   },
   "outputs": [],
   "source": [
    "def nn_model(X, Y, n_h=10, num_iterations = 5001, learning_rate = 0.01, init = \"random\", activate_function1 = \"tanh\",\n",
    "             activate_function2=\"sigmoid\", print_cost=False):\n",
    "    np.random.seed(3)\n",
    "    n_x = layer_sizes(X, Y)[0]\n",
    "    n_y = layer_sizes(X, Y)[2]\n",
    "    costs = []\n",
    "\n",
    "    if init == \"random\":\n",
    "        parameters = random_initialize(n_x, n_h, n_y)\n",
    "    else:\n",
    "        parameters = initialize_with_zeros(n_x, n_h, n_y)\n",
    "        \n",
    "    for i in range(0, num_iterations):\n",
    "        A2, cache = forward_propagation(X, parameters,activate_function1,activate_function2)\n",
    "        cost = compute_cost(A2, Y, parameters)\n",
    "        grads = backward_propagation(parameters, cache, X, Y)\n",
    "        parameters = update_parameters(parameters, grads,learning_rate)\n",
    "        \n",
    "        if i % 100 == 0:\n",
    "            costs.append(cost)\n",
    "\n",
    "        if print_cost and i % 500 == 0:\n",
    "            print (\"Cost after iteration %i: %f\" %(i, cost))\n",
    "            \n",
    "    predictions = predict(parameters, train_set_x)\n",
    "    Y_prediction_train = float((np.dot(train_set_y,predictions.T) + np.dot(1-train_set_y,1-predictions.T))/float(train_set_y.size)*100)\n",
    "    \n",
    "    \n",
    "    predictions = predict(parameters, test_set_x)\n",
    "    Y_prediction_test = float((np.dot(test_set_y,predictions.T) + np.dot(1-test_set_y,1-predictions.T))/float(test_set_y.size)*100)\n",
    "    d = {\"costs\": costs,\n",
    "         \"Y_prediction_test\": Y_prediction_test, \n",
    "         \"Y_prediction_train\" : Y_prediction_train, \n",
    "         \"W1\" : parameters[\"W1\"], \n",
    "         \"b1\" : parameters[\"b1\"],\n",
    "         \"W2\" : parameters[\"W2\"],\n",
    "         \"b2\" : parameters[\"b2\"],\n",
    "         \"learning_rate\" : learning_rate,\n",
    "         \"num_iterations\": num_iterations,\n",
    "         \"init\": init,\n",
    "         \"n_h\": n_h,\n",
    "         \"activate_function1\": activate_function1,\n",
    "         \"activate_function2\":activate_function2\n",
    "        }\n",
    "\n",
    "    return d"
   ]
  },
  {
   "cell_type": "markdown",
   "id": "e5dd5c0d",
   "metadata": {
    "papermill": {
     "duration": 0.016243,
     "end_time": "2023-05-16T17:27:31.500036",
     "exception": false,
     "start_time": "2023-05-16T17:27:31.483793",
     "status": "completed"
    },
    "tags": []
   },
   "source": [
    "### Test the model with default parametrs"
   ]
  },
  {
   "cell_type": "code",
   "execution_count": 28,
   "id": "717a9f38",
   "metadata": {
    "execution": {
     "iopub.execute_input": "2023-05-16T17:27:31.534050Z",
     "iopub.status.busy": "2023-05-16T17:27:31.533234Z",
     "iopub.status.idle": "2023-05-16T17:28:28.209636Z",
     "shell.execute_reply": "2023-05-16T17:28:28.208520Z"
    },
    "papermill": {
     "duration": 56.699798,
     "end_time": "2023-05-16T17:28:28.215766",
     "exception": false,
     "start_time": "2023-05-16T17:27:31.515968",
     "status": "completed"
    },
    "tags": []
   },
   "outputs": [
    {
     "name": "stdout",
     "output_type": "stream",
     "text": [
      "Cost after iteration 0: 0.693045\n",
      "Cost after iteration 500: 0.502236\n",
      "Cost after iteration 1000: 0.292774\n",
      "Cost after iteration 1500: 0.150947\n",
      "Cost after iteration 2000: 0.053152\n",
      "Cost after iteration 2500: 0.032084\n",
      "Cost after iteration 3000: 0.021660\n",
      "Cost after iteration 3500: 0.015888\n",
      "Cost after iteration 4000: 0.012428\n",
      "Cost after iteration 4500: 0.010138\n",
      "Cost after iteration 5000: 0.008521\n",
      "Y_prediction_train = 100.0\n",
      "Y_prediction_test = 70.0\n",
      "W1 = [[ 0.00883522 -0.01308723 -0.02017444 ... -0.01763264 -0.0055918\n",
      "   0.02902177]\n",
      " [-0.00177296  0.0092429  -0.01988866 ... -0.00411935  0.00170492\n",
      "  -0.00034422]\n",
      " [-0.00916086  0.02038065 -0.00155774 ...  0.00514497  0.01600089\n",
      "  -0.01414992]\n",
      " ...\n",
      " [-0.000271    0.00145129 -0.00813037 ...  0.00109349  0.02067697\n",
      "  -0.00842053]\n",
      " [-0.02345059  0.00612192  0.00698249 ...  0.00594773  0.01822483\n",
      "  -0.00392465]\n",
      " [-0.01451236  0.00960518  0.00474033 ...  0.01086132  0.00768976\n",
      "  -0.02160337]]\n",
      "b1 = [[-0.00290204]\n",
      " [ 0.00075455]\n",
      " [-0.00070853]\n",
      " [ 0.00285943]\n",
      " [-0.00137481]\n",
      " [ 0.00233098]\n",
      " [ 0.00361108]\n",
      " [-0.00119487]\n",
      " [-0.00430723]\n",
      " [-0.00277312]]\n",
      "W2 = [[ 1.6065415  -0.25016068 -1.04869008 -1.0658202   0.26758677  0.48733243\n",
      "   1.10803626  0.16358078 -0.76759244 -1.08722376]]\n",
      "b2 = [[-0.04962943]]\n"
     ]
    }
   ],
   "source": [
    "model = nn_model(train_set_x, train_set_y, print_cost=True)\n",
    "print(\"Y_prediction_train = \" + str(model[\"Y_prediction_train\"]))\n",
    "print(\"Y_prediction_test = \" + str(model[\"Y_prediction_test\"]))\n",
    "print(\"W1 = \" + str(model[\"W1\"]))\n",
    "print(\"b1 = \" + str(model[\"b1\"]))\n",
    "print(\"W2 = \" + str(model[\"W2\"]))\n",
    "print(\"b2 = \" + str(model[\"b2\"]))"
   ]
  },
  {
   "cell_type": "markdown",
   "id": "e44f653f",
   "metadata": {
    "papermill": {
     "duration": 0.035186,
     "end_time": "2023-05-16T17:28:28.286752",
     "exception": false,
     "start_time": "2023-05-16T17:28:28.251566",
     "status": "completed"
    },
    "tags": []
   },
   "source": [
    "## Choosing hiperparametrs"
   ]
  },
  {
   "cell_type": "markdown",
   "id": "8f2bcf85",
   "metadata": {
    "papermill": {
     "duration": 0.018583,
     "end_time": "2023-05-16T17:28:28.341048",
     "exception": false,
     "start_time": "2023-05-16T17:28:28.322465",
     "status": "completed"
    },
    "tags": []
   },
   "source": [
    "### learning rate"
   ]
  },
  {
   "cell_type": "code",
   "execution_count": 29,
   "id": "f5ee275c",
   "metadata": {
    "execution": {
     "iopub.execute_input": "2023-05-16T17:28:28.377473Z",
     "iopub.status.busy": "2023-05-16T17:28:28.377084Z",
     "iopub.status.idle": "2023-05-16T17:29:27.805818Z",
     "shell.execute_reply": "2023-05-16T17:29:27.804171Z"
    },
    "papermill": {
     "duration": 59.452266,
     "end_time": "2023-05-16T17:29:27.810819",
     "exception": false,
     "start_time": "2023-05-16T17:28:28.358553",
     "status": "completed"
    },
    "tags": []
   },
   "outputs": [
    {
     "name": "stdout",
     "output_type": "stream",
     "text": [
      "Cost after iteration 0: 0.693045\n",
      "Cost after iteration 500: 0.502236\n",
      "Cost after iteration 1000: 0.292774\n",
      "Cost after iteration 1500: 0.150947\n",
      "Cost after iteration 2000: 0.053152\n",
      "Cost after iteration 2500: 0.032084\n",
      "Cost after iteration 3000: 0.021660\n",
      "Cost after iteration 3500: 0.015888\n",
      "Cost after iteration 4000: 0.012428\n",
      "Cost after iteration 4500: 0.010138\n",
      "Cost after iteration 5000: 0.008521\n",
      "Y_prediction_train = 100.0\n",
      "Y_prediction_test = 70.0\n"
     ]
    }
   ],
   "source": [
    "model = nn_model(train_set_x, train_set_y,num_iterations = 5001, learning_rate = 0.01, print_cost=True)\n",
    "print(\"Y_prediction_train = \" + str(model[\"Y_prediction_train\"]))\n",
    "print(\"Y_prediction_test = \" + str(model[\"Y_prediction_test\"]))"
   ]
  },
  {
   "cell_type": "code",
   "execution_count": 30,
   "id": "5fd28af5",
   "metadata": {
    "execution": {
     "iopub.execute_input": "2023-05-16T17:29:27.910623Z",
     "iopub.status.busy": "2023-05-16T17:29:27.910120Z",
     "iopub.status.idle": "2023-05-16T17:29:28.157683Z",
     "shell.execute_reply": "2023-05-16T17:29:28.156170Z"
    },
    "papermill": {
     "duration": 0.292871,
     "end_time": "2023-05-16T17:29:28.160245",
     "exception": false,
     "start_time": "2023-05-16T17:29:27.867374",
     "status": "completed"
    },
    "tags": []
   },
   "outputs": [
    {
     "data": {
      "image/png": "[encoded data removed]",
      "text/plain": [
       "<Figure size 640x480 with 1 Axes>"
      ]
     },
     "metadata": {},
     "output_type": "display_data"
    }
   ],
   "source": [
    "plt.plot(np.squeeze(model[\"costs\"]), label= str(model[\"learning_rate\"]))\n",
    "plt.ylabel('cost')\n",
    "plt.xlabel('iterations (hundreds)')\n",
    "\n",
    "legend = plt.legend(loc='upper center', shadow=True)\n",
    "frame = legend.get_frame()\n",
    "frame.set_facecolor('0.90')\n",
    "plt.show()"
   ]
  },
  {
   "cell_type": "code",
   "execution_count": 31,
   "id": "961e9629",
   "metadata": {
    "execution": {
     "iopub.execute_input": "2023-05-16T17:29:28.200450Z",
     "iopub.status.busy": "2023-05-16T17:29:28.199766Z",
     "iopub.status.idle": "2023-05-16T17:37:20.676214Z",
     "shell.execute_reply": "2023-05-16T17:37:20.675014Z"
    },
    "papermill": {
     "duration": 472.499635,
     "end_time": "2023-05-16T17:37:20.678874",
     "exception": false,
     "start_time": "2023-05-16T17:29:28.179239",
     "status": "completed"
    },
    "tags": []
   },
   "outputs": [
    {
     "name": "stdout",
     "output_type": "stream",
     "text": [
      "learning rate is: 0.1\n",
      "Cost after iteration 0: 0.693045\n",
      "Cost after iteration 500: 0.525101\n",
      "Cost after iteration 1000: 0.500535\n",
      "Cost after iteration 1500: 0.483601\n",
      "Cost after iteration 2000: 0.493874\n",
      "Cost after iteration 2500: 0.041037\n",
      "Cost after iteration 3000: 0.028530\n",
      "Cost after iteration 3500: 0.025373\n",
      "Cost after iteration 4000: 0.023764\n",
      "Cost after iteration 4500: 0.022988\n",
      "Cost after iteration 5000: 0.022499\n",
      "Cost after iteration 5500: 0.022025\n",
      "Cost after iteration 6000: 0.021460\n",
      "Cost after iteration 6500: 0.020888\n",
      "Cost after iteration 7000: 0.019914\n",
      "Cost after iteration 7500: 0.006346\n",
      "Cost after iteration 8000: 0.004962\n",
      "Cost after iteration 8500: 0.004223\n",
      "Cost after iteration 9000: 0.003693\n",
      "Cost after iteration 9500: 0.003224\n",
      "Cost after iteration 10000: 0.002785\n",
      "Y_prediction_train = 100.0\n",
      "Y_prediction_test = 74.0\n",
      "\n",
      "-------------------------------------------------------\n",
      "\n",
      "learning rate is: 0.01\n",
      "Cost after iteration 0: 0.693045\n",
      "Cost after iteration 500: 0.502236\n",
      "Cost after iteration 1000: 0.292774\n",
      "Cost after iteration 1500: 0.150947\n",
      "Cost after iteration 2000: 0.053152\n",
      "Cost after iteration 2500: 0.032084\n",
      "Cost after iteration 3000: 0.021660\n",
      "Cost after iteration 3500: 0.015888\n",
      "Cost after iteration 4000: 0.012428\n",
      "Cost after iteration 4500: 0.010138\n",
      "Cost after iteration 5000: 0.008521\n",
      "Cost after iteration 5500: 0.007325\n",
      "Cost after iteration 6000: 0.006409\n",
      "Cost after iteration 6500: 0.005686\n",
      "Cost after iteration 7000: 0.005104\n",
      "Cost after iteration 7500: 0.004625\n",
      "Cost after iteration 8000: 0.004224\n",
      "Cost after iteration 8500: 0.003885\n",
      "Cost after iteration 9000: 0.003594\n",
      "Cost after iteration 9500: 0.003342\n",
      "Cost after iteration 10000: 0.003122\n",
      "Y_prediction_train = 100.0\n",
      "Y_prediction_test = 70.0\n",
      "\n",
      "-------------------------------------------------------\n",
      "\n",
      "learning rate is: 0.001\n",
      "Cost after iteration 0: 0.693045\n",
      "Cost after iteration 500: 0.660348\n",
      "Cost after iteration 1000: 0.646930\n",
      "Cost after iteration 1500: 0.642318\n",
      "Cost after iteration 2000: 0.635682\n",
      "Cost after iteration 2500: 0.626163\n",
      "Cost after iteration 3000: 0.611652\n",
      "Cost after iteration 3500: 0.590570\n",
      "Cost after iteration 4000: 0.564592\n",
      "Cost after iteration 4500: 0.534285\n",
      "Cost after iteration 5000: 0.500823\n",
      "Cost after iteration 5500: 0.466109\n",
      "Cost after iteration 6000: 0.430659\n",
      "Cost after iteration 6500: 0.394973\n",
      "Cost after iteration 7000: 0.359921\n",
      "Cost after iteration 7500: 0.326340\n",
      "Cost after iteration 8000: 0.294531\n",
      "Cost after iteration 8500: 0.264754\n",
      "Cost after iteration 9000: 0.237277\n",
      "Cost after iteration 9500: 0.212114\n",
      "Cost after iteration 10000: 0.189304\n",
      "Y_prediction_train = 97.60765550239235\n",
      "Y_prediction_test = 72.0\n",
      "\n",
      "-------------------------------------------------------\n",
      "\n",
      "learning rate is: 0.0001\n",
      "Cost after iteration 0: 0.693045\n",
      "Cost after iteration 500: 0.690272\n",
      "Cost after iteration 1000: 0.687406\n",
      "Cost after iteration 1500: 0.684286\n",
      "Cost after iteration 2000: 0.680875\n",
      "Cost after iteration 2500: 0.677243\n",
      "Cost after iteration 3000: 0.673523\n",
      "Cost after iteration 3500: 0.669862\n",
      "Cost after iteration 4000: 0.666389\n",
      "Cost after iteration 4500: 0.663195\n",
      "Cost after iteration 5000: 0.660334\n",
      "Cost after iteration 5500: 0.657825\n",
      "Cost after iteration 6000: 0.655661\n",
      "Cost after iteration 6500: 0.653818\n",
      "Cost after iteration 7000: 0.652262\n",
      "Cost after iteration 7500: 0.650954\n",
      "Cost after iteration 8000: 0.649857\n",
      "Cost after iteration 8500: 0.648935\n",
      "Cost after iteration 9000: 0.648158\n",
      "Cost after iteration 9500: 0.647497\n",
      "Cost after iteration 10000: 0.646928\n",
      "Y_prediction_train = 65.55023923444976\n",
      "Y_prediction_test = 34.0\n",
      "\n",
      "-------------------------------------------------------\n",
      "\n"
     ]
    },
    {
     "data": {
      "image/png": "[encoded data removed]",
      "text/plain": [
       "<Figure size 640x480 with 1 Axes>"
      ]
     },
     "metadata": {},
     "output_type": "display_data"
    }
   ],
   "source": [
    "learning_rates = [0.1, 0.01, 0.001, 0.0001]\n",
    "models = {}\n",
    "for i in learning_rates:\n",
    "    print (\"learning rate is: \" + str(i))\n",
    "    models[str(i)] = nn_model(train_set_x, train_set_y, n_h=10, num_iterations=10001, learning_rate = i, print_cost=True)\n",
    "    print(\"Y_prediction_train = \" + str(models[str(i)][\"Y_prediction_train\"]))\n",
    "    print(\"Y_prediction_test = \" + str(models[str(i)][\"Y_prediction_test\"]))\n",
    "    print ('\\n' + \"-------------------------------------------------------\" + '\\n')\n",
    "\n",
    "for i in learning_rates:\n",
    "    plt.plot(np.squeeze(models[str(i)][\"costs\"]), label= str(models[str(i)][\"learning_rate\"]))\n",
    "\n",
    "plt.ylabel('cost')\n",
    "plt.xlabel('iterations (hundreds)')\n",
    "\n",
    "legend = plt.legend(loc='upper center', shadow=True)\n",
    "frame = legend.get_frame()\n",
    "frame.set_facecolor('0.90')\n",
    "plt.show()"
   ]
  },
  {
   "cell_type": "markdown",
   "id": "123e4729",
   "metadata": {
    "papermill": {
     "duration": 0.032719,
     "end_time": "2023-05-16T17:37:20.745912",
     "exception": false,
     "start_time": "2023-05-16T17:37:20.713193",
     "status": "completed"
    },
    "tags": []
   },
   "source": [
    "### Initialization type\n"
   ]
  },
  {
   "cell_type": "code",
   "execution_count": 32,
   "id": "99ec22f4",
   "metadata": {
    "execution": {
     "iopub.execute_input": "2023-05-16T17:37:20.811014Z",
     "iopub.status.busy": "2023-05-16T17:37:20.810314Z",
     "iopub.status.idle": "2023-05-16T17:38:54.312052Z",
     "shell.execute_reply": "2023-05-16T17:38:54.310817Z"
    },
    "papermill": {
     "duration": 93.535106,
     "end_time": "2023-05-16T17:38:54.316803",
     "exception": false,
     "start_time": "2023-05-16T17:37:20.781697",
     "status": "completed"
    },
    "tags": []
   },
   "outputs": [
    {
     "name": "stdout",
     "output_type": "stream",
     "text": [
      "Cost after iteration 0: 0.693045\n",
      "Cost after iteration 500: 0.502236\n",
      "Cost after iteration 1000: 0.292774\n",
      "Cost after iteration 1500: 0.150947\n",
      "Cost after iteration 2000: 0.053152\n",
      "Cost after iteration 2500: 0.032084\n",
      "Cost after iteration 3000: 0.021660\n",
      "Cost after iteration 3500: 0.015888\n",
      "Cost after iteration 4000: 0.012428\n",
      "Y_prediction_train = 100.0\n",
      "Y_prediction_test = 70.0\n",
      "\n",
      "Cost after iteration 0: 0.693147\n",
      "Cost after iteration 500: 0.648432\n",
      "Cost after iteration 1000: 0.644415\n",
      "Cost after iteration 1500: 0.644019\n",
      "Cost after iteration 2000: 0.643978\n",
      "Cost after iteration 2500: 0.643974\n",
      "Cost after iteration 3000: 0.643974\n",
      "Cost after iteration 3500: 0.643974\n",
      "Cost after iteration 4000: 0.643974\n",
      "Y_prediction_train = 65.55023923444976\n",
      "Y_prediction_test = 34.0\n"
     ]
    }
   ],
   "source": [
    "model1 = nn_model(train_set_x, train_set_y, n_h=10, num_iterations=4001, learning_rate = 0.01, init = \"random\", print_cost=True)\n",
    "print(\"Y_prediction_train = \" + str(model1[\"Y_prediction_train\"]))\n",
    "print(\"Y_prediction_test = \" + str(model1[\"Y_prediction_test\"]))\n",
    "print()\n",
    "model2 = nn_model(train_set_x, train_set_y, n_h=10, num_iterations=4001, learning_rate = 0.01, init = \"zeros\", print_cost=True)\n",
    "print(\"Y_prediction_train = \" + str(model2[\"Y_prediction_train\"]))\n",
    "print(\"Y_prediction_test = \" + str(model2[\"Y_prediction_test\"]))\n"
   ]
  },
  {
   "cell_type": "code",
   "execution_count": 33,
   "id": "f4485985",
   "metadata": {
    "execution": {
     "iopub.execute_input": "2023-05-16T17:38:54.432949Z",
     "iopub.status.busy": "2023-05-16T17:38:54.432548Z",
     "iopub.status.idle": "2023-05-16T17:38:54.716242Z",
     "shell.execute_reply": "2023-05-16T17:38:54.714699Z"
    },
    "papermill": {
     "duration": 0.343221,
     "end_time": "2023-05-16T17:38:54.718329",
     "exception": true,
     "start_time": "2023-05-16T17:38:54.375108",
     "status": "failed"
    },
    "tags": []
   },
   "outputs": [
    {
     "ename": "KeyError",
     "evalue": "'0.0001'",
     "output_type": "error",
     "traceback": [
      "\u001b[0;31m---------------------------------------------------------------------------\u001b[0m",
      "\u001b[0;31mKeyError\u001b[0m                                  Traceback (most recent call last)",
      "Cell \u001b[0;32mIn[33], line 1\u001b[0m\n\u001b[0;32m----> 1\u001b[0m plt\u001b[38;5;241m.\u001b[39mplot(np\u001b[38;5;241m.\u001b[39msqueeze(model1[\u001b[38;5;124m\"\u001b[39m\u001b[38;5;124mcosts\u001b[39m\u001b[38;5;124m\"\u001b[39m]), label\u001b[38;5;241m=\u001b[39m \u001b[38;5;28mstr\u001b[39m(\u001b[43mmodel1\u001b[49m\u001b[43m[\u001b[49m\u001b[38;5;28;43mstr\u001b[39;49m\u001b[43m(\u001b[49m\u001b[43mi\u001b[49m\u001b[43m)\u001b[49m\u001b[43m]\u001b[49m[\u001b[38;5;124m\"\u001b[39m\u001b[38;5;124minit\u001b[39m\u001b[38;5;124m\"\u001b[39m]))\n\u001b[1;32m      2\u001b[0m plt\u001b[38;5;241m.\u001b[39mplot(np\u001b[38;5;241m.\u001b[39msqueeze(model2[\u001b[38;5;124m\"\u001b[39m\u001b[38;5;124mcosts\u001b[39m\u001b[38;5;124m\"\u001b[39m]), label\u001b[38;5;241m=\u001b[39m \u001b[38;5;28mstr\u001b[39m(model2[\u001b[38;5;28mstr\u001b[39m(i)][\u001b[38;5;124m\"\u001b[39m\u001b[38;5;124minit\u001b[39m\u001b[38;5;124m\"\u001b[39m]))\n\u001b[1;32m      3\u001b[0m plt\u001b[38;5;241m.\u001b[39mylabel(\u001b[38;5;124m'\u001b[39m\u001b[38;5;124mcost\u001b[39m\u001b[38;5;124m'\u001b[39m)\n",
      "\u001b[0;31mKeyError\u001b[0m: '0.0001'"
     ]
    }
   ],
   "source": [
    "plt.plot(np.squeeze(model1[\"costs\"]), label= str(model1[str(i)][\"init\"]))\n",
    "plt.plot(np.squeeze(model2[\"costs\"]), label= str(model2[str(i)][\"init\"]))\n",
    "plt.ylabel('cost')\n",
    "plt.xlabel('iterations (hundreds)')\n",
    "\n",
    "legend = plt.legend(loc='upper center', shadow=True)\n",
    "frame = legend.get_frame()\n",
    "frame.set_facecolor('0.90')\n",
    "plt.show()"
   ]
  },
  {
   "cell_type": "markdown",
   "id": "c1f35627",
   "metadata": {
    "papermill": {
     "duration": null,
     "end_time": null,
     "exception": null,
     "start_time": null,
     "status": "pending"
    },
    "tags": []
   },
   "source": [
    "### n_h"
   ]
  },
  {
   "cell_type": "code",
   "execution_count": null,
   "id": "fcd4750e",
   "metadata": {
    "papermill": {
     "duration": null,
     "end_time": null,
     "exception": null,
     "start_time": null,
     "status": "pending"
    },
    "tags": []
   },
   "outputs": [],
   "source": [
    "nh_size = [10,100,1000]\n",
    "models = {}\n",
    "for i in nh_size:\n",
    "    print (\"nh_size rate is: \" + str(i))\n",
    "    models[str(i)] = nn_model(train_set_x, train_set_y, n_h=i, num_iterations=4001, print_cost=True)\n",
    "    print ('\\n' + \"-------------------------------------------------------\" + '\\n')\n"
   ]
  },
  {
   "cell_type": "code",
   "execution_count": null,
   "id": "79d3617b",
   "metadata": {
    "papermill": {
     "duration": null,
     "end_time": null,
     "exception": null,
     "start_time": null,
     "status": "pending"
    },
    "tags": []
   },
   "outputs": [],
   "source": [
    "for i in nh_size:\n",
    "    print(\"n_h = \" + str(models[str(i)][\"n_h\"]))\n",
    "    print(\"Y_prediction_train = \" + str(models[str(i)][\"Y_prediction_train\"]))\n",
    "    print(\"Y_prediction_test = \" + str(models[str(i)][\"Y_prediction_test\"]))\n",
    "    print()"
   ]
  },
  {
   "cell_type": "code",
   "execution_count": null,
   "id": "1db482a5",
   "metadata": {
    "papermill": {
     "duration": null,
     "end_time": null,
     "exception": null,
     "start_time": null,
     "status": "pending"
    },
    "tags": []
   },
   "outputs": [],
   "source": [
    "for i in nh_size:\n",
    "    plt.plot(np.squeeze(models[str(i)][\"costs\"]), label= str(models[str(i)][\"n_h\"]))\n",
    "\n",
    "plt.ylabel('cost')\n",
    "plt.xlabel('iterations (hundreds)')\n",
    "\n",
    "legend = plt.legend(loc='upper center', shadow=True)\n",
    "frame = legend.get_frame()\n",
    "frame.set_facecolor('0.90')\n",
    "plt.show()"
   ]
  },
  {
   "cell_type": "markdown",
   "id": "e145ec96",
   "metadata": {
    "papermill": {
     "duration": null,
     "end_time": null,
     "exception": null,
     "start_time": null,
     "status": "pending"
    },
    "tags": []
   },
   "source": [
    "### Activation function"
   ]
  },
  {
   "cell_type": "code",
   "execution_count": null,
   "id": "f61df92c",
   "metadata": {
    "papermill": {
     "duration": null,
     "end_time": null,
     "exception": null,
     "start_time": null,
     "status": "pending"
    },
    "tags": []
   },
   "outputs": [],
   "source": [
    "model1 = nn_model(train_set_x, train_set_y, n_h=10, num_iterations=3001, learning_rate = 0.01, activate_function1=\"relu\", print_cost=True)\n",
    "print(\"Y_prediction_train = \" + str(model1[\"Y_prediction_train\"]))\n",
    "print(\"Y_prediction_test = \" + str(model1[\"Y_prediction_test\"]))\n",
    "print()"
   ]
  },
  {
   "cell_type": "code",
   "execution_count": null,
   "id": "ea785c65",
   "metadata": {
    "papermill": {
     "duration": null,
     "end_time": null,
     "exception": null,
     "start_time": null,
     "status": "pending"
    },
    "tags": []
   },
   "outputs": [],
   "source": [
    "model2 = nn_model(train_set_x, train_set_y, n_h=100, num_iterations=3001, learning_rate = 0.01, activate_function1=\"tanh\",print_cost=True)\n",
    "print(\"Y_prediction_train = \" + str(model2[\"Y_prediction_train\"]))\n",
    "print(\"Y_prediction_test = \" + str(model2[\"Y_prediction_test\"]))"
   ]
  },
  {
   "cell_type": "code",
   "execution_count": null,
   "id": "fbe09eab",
   "metadata": {
    "papermill": {
     "duration": null,
     "end_time": null,
     "exception": null,
     "start_time": null,
     "status": "pending"
    },
    "tags": []
   },
   "outputs": [],
   "source": [
    "plt.plot(np.squeeze(model1[\"costs\"]), label= \"rele\")#str(model1[str(i)][\"activate_function1\"]))\n",
    "plt.plot(np.squeeze(model2[\"costs\"]), label= \"tanh\")#str(model2[str(i)][\"activate_function1\"]))\n",
    "plt.ylabel('cost')\n",
    "plt.xlabel('iterations (hundreds)')\n",
    "\n",
    "legend = plt.legend(loc='upper center', shadow=True)\n",
    "frame = legend.get_frame()\n",
    "frame.set_facecolor('0.90')\n",
    "plt.show()"
   ]
  },
  {
   "cell_type": "markdown",
   "id": "011125f0",
   "metadata": {
    "papermill": {
     "duration": null,
     "end_time": null,
     "exception": null,
     "start_time": null,
     "status": "pending"
    },
    "tags": []
   },
   "source": [
    "## Test with optimal parametrs"
   ]
  },
  {
   "cell_type": "code",
   "execution_count": null,
   "id": "0251ab29",
   "metadata": {
    "papermill": {
     "duration": null,
     "end_time": null,
     "exception": null,
     "start_time": null,
     "status": "pending"
    },
    "tags": []
   },
   "outputs": [],
   "source": [
    "model = nn_model(train_set_x, train_set_y, n_h=1000, num_iterations=5000, learning_rate = 0.01, activate_function1=\"relu\", print_cost=True)\n",
    "print(\"Y_prediction_train = \" + str(model1[\"Y_prediction_train\"]))\n",
    "print(\"Y_prediction_test = \" + str(model1[\"Y_prediction_test\"]))"
   ]
  }
 ],
 "metadata": {
  "kernelspec": {
   "display_name": "Python 3",
   "language": "python",
   "name": "python3"
  },
  "language_info": {
   "codemirror_mode": {
    "name": "ipython",
    "version": 3
   },
   "file_extension": ".py",
   "mimetype": "text/x-python",
   "name": "python",
   "nbconvert_exporter": "python",
   "pygments_lexer": "ipython3",
   "version": "3.10.10"
  },
  "papermill": {
   "default_parameters": {},
   "duration": 699.796765,
   "end_time": "2023-05-16T17:38:55.771355",
   "environment_variables": {},
   "exception": true,
   "input_path": "__notebook__.ipynb",
   "output_path": "__notebook__.ipynb",
   "parameters": {},
   "start_time": "2023-05-16T17:27:15.974590",
   "version": "2.4.0"
  }
 },
 "nbformat": 4,
 "nbformat_minor": 5
}
